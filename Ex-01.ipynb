{
 "cells": [
  {
   "cell_type": "code",
   "execution_count": 15,
   "id": "97eb45a5-5e8c-43dc-8bda-10f57b934398",
   "metadata": {},
   "outputs": [
    {
     "data": {
      "text/plain": [
       "-1"
      ]
     },
     "execution_count": 15,
     "metadata": {},
     "output_type": "execute_result"
    }
   ],
   "source": [
    "  import cv2\n",
    "  s=cv2.imread('jack.jpg',1)\n",
    "  cv2.imshow('Tony',s)\n",
    "  cv2.waitKey(0)"
   ]
  },
  {
   "cell_type": "code",
   "execution_count": 17,
   "id": "c5168f5b-8872-454c-8c64-4eaf96ecc7f9",
   "metadata": {},
   "outputs": [],
   "source": [
    "import cv2\n",
    "a=cv2.imread('jack.jpg',1)\n",
    "cv2.imwrite('rj.jpg',a)\n",
    "cv2.imshow('jack',a)\n",
    "cv2.waitKey(0)\n",
    "cv2.destroyAllWindows()"
   ]
  },
  {
   "cell_type": "code",
   "execution_count": 18,
   "id": "c275530c",
   "metadata": {},
   "outputs": [
    {
     "name": "stdout",
     "output_type": "stream",
     "text": [
      "(375, 500, 3)\n"
     ]
    }
   ],
   "source": [
    "import cv2\n",
    "a=cv2.imread('jack.jpg',1)\n",
    "print(a.shape)"
   ]
  },
  {
   "cell_type": "code",
   "execution_count": 20,
   "id": "af1e588a",
   "metadata": {},
   "outputs": [],
   "source": [
    "import cv2\n",
    "a=cv2.imread('jack.jpg',1)\n",
    "import random\n",
    "for i in range (100):\n",
    "    for j in range(a.shape[1]):\n",
    "        a[i][j] = [random.randint(0,255),random.randint(0,255),random.randint(0,255)]\n",
    "cv2.imshow('Jackie',a)\n",
    "cv2.waitKey(0)\n",
    "cv2.destroyAllWindows()"
   ]
  },
  {
   "cell_type": "code",
   "execution_count": null,
   "id": "a0a161cb",
   "metadata": {},
   "outputs": [],
   "source": [
    "import cv2\n",
    "a=cv2.imread('jack.jpg',1)\n",
    "tag = a[100:200,100:200]\n",
    "a[50:150,50:150] = tag\n",
    "cv2.imshow('Image',a)\n",
    "cv2.waitKey(0)\n",
    "cv2.destroyAllWindows()"
   ]
  },
  {
   "cell_type": "code",
   "execution_count": null,
   "id": "720a45bf",
   "metadata": {},
   "outputs": [],
   "source": []
  }
 ],
 "metadata": {
  "kernelspec": {
   "display_name": "Python 3 (ipykernel)",
   "language": "python",
   "name": "python3"
  },
  "language_info": {
   "codemirror_mode": {
    "name": "ipython",
    "version": 3
   },
   "file_extension": ".py",
   "mimetype": "text/x-python",
   "name": "python",
   "nbconvert_exporter": "python",
   "pygments_lexer": "ipython3",
   "version": "3.9.13"
  }
 },
 "nbformat": 4,
 "nbformat_minor": 5
}
